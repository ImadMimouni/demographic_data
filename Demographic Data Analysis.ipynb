{
 "cells": [
  {
   "cell_type": "markdown",
   "id": "14f346aa",
   "metadata": {},
   "source": [
    "# Demographic Data Analysis\n",
    "\n",
    "The point of this notebook is the analyze census data that was provided by Free Code Camp. The goal here is to create a function that answers the following questions using Pandas:\n",
    "\n",
    "How many people of each race are represented in this dataset? This should be a Pandas series with race names as the index labels. (race column)\n",
    "- What is the average age of men?\n",
    "- What is the percentage of people who have a Bachelor's degree?\n",
    "- What percentage of people with advanced education (Bachelors, Masters, or Doctorate) make more than 50K?\n",
    "- What percentage of people without advanced education make more than 50K?\n",
    "- What is the minimum number of hours a person works per week?\n",
    "- What percentage of the people who work the minimum number of hours per week have a salary of more than 50K?\n",
    "- What country has the highest percentage of people that earn >50K and what is that percentage?\n",
    "- Identify the most popular occupation for those who earn >50K in India.\n",
    "\n",
    "<font color='blue'>Here you will find thelink to the assignment and csv file: </font> https://repl.it/@freeCodeCamp/fcc-demographic-data-analyzer#README.md"
   ]
  },
  {
   "cell_type": "code",
   "execution_count": 1,
   "id": "cb39b49d",
   "metadata": {},
   "outputs": [],
   "source": [
    "# Importing needed libraries\n",
    "import pandas as pd\n",
    "import numpy as np"
   ]
  },
  {
   "cell_type": "code",
   "execution_count": 2,
   "id": "bdcc7e0b",
   "metadata": {},
   "outputs": [],
   "source": [
    "# Importing the data\n",
    "df = pd.read_csv('adult.data.txt') "
   ]
  },
  {
   "cell_type": "code",
   "execution_count": 3,
   "id": "618534c8",
   "metadata": {},
   "outputs": [
    {
     "data": {
      "text/html": [
       "<div>\n",
       "<style scoped>\n",
       "    .dataframe tbody tr th:only-of-type {\n",
       "        vertical-align: middle;\n",
       "    }\n",
       "\n",
       "    .dataframe tbody tr th {\n",
       "        vertical-align: top;\n",
       "    }\n",
       "\n",
       "    .dataframe thead th {\n",
       "        text-align: right;\n",
       "    }\n",
       "</style>\n",
       "<table border=\"1\" class=\"dataframe\">\n",
       "  <thead>\n",
       "    <tr style=\"text-align: right;\">\n",
       "      <th></th>\n",
       "      <th>age</th>\n",
       "      <th>workclass</th>\n",
       "      <th>fnlwgt</th>\n",
       "      <th>education</th>\n",
       "      <th>education-num</th>\n",
       "      <th>marital-status</th>\n",
       "      <th>occupation</th>\n",
       "      <th>relationship</th>\n",
       "      <th>race</th>\n",
       "      <th>sex</th>\n",
       "      <th>capital-gain</th>\n",
       "      <th>capital-loss</th>\n",
       "      <th>hours-per-week</th>\n",
       "      <th>native-country</th>\n",
       "      <th>salary</th>\n",
       "    </tr>\n",
       "  </thead>\n",
       "  <tbody>\n",
       "    <tr>\n",
       "      <th>0</th>\n",
       "      <td>39</td>\n",
       "      <td>State-gov</td>\n",
       "      <td>77516</td>\n",
       "      <td>Bachelors</td>\n",
       "      <td>13</td>\n",
       "      <td>Never-married</td>\n",
       "      <td>Adm-clerical</td>\n",
       "      <td>Not-in-family</td>\n",
       "      <td>White</td>\n",
       "      <td>Male</td>\n",
       "      <td>2174</td>\n",
       "      <td>0</td>\n",
       "      <td>40</td>\n",
       "      <td>United-States</td>\n",
       "      <td>&lt;=50K</td>\n",
       "    </tr>\n",
       "    <tr>\n",
       "      <th>1</th>\n",
       "      <td>50</td>\n",
       "      <td>Self-emp-not-inc</td>\n",
       "      <td>83311</td>\n",
       "      <td>Bachelors</td>\n",
       "      <td>13</td>\n",
       "      <td>Married-civ-spouse</td>\n",
       "      <td>Exec-managerial</td>\n",
       "      <td>Husband</td>\n",
       "      <td>White</td>\n",
       "      <td>Male</td>\n",
       "      <td>0</td>\n",
       "      <td>0</td>\n",
       "      <td>13</td>\n",
       "      <td>United-States</td>\n",
       "      <td>&lt;=50K</td>\n",
       "    </tr>\n",
       "    <tr>\n",
       "      <th>2</th>\n",
       "      <td>38</td>\n",
       "      <td>Private</td>\n",
       "      <td>215646</td>\n",
       "      <td>HS-grad</td>\n",
       "      <td>9</td>\n",
       "      <td>Divorced</td>\n",
       "      <td>Handlers-cleaners</td>\n",
       "      <td>Not-in-family</td>\n",
       "      <td>White</td>\n",
       "      <td>Male</td>\n",
       "      <td>0</td>\n",
       "      <td>0</td>\n",
       "      <td>40</td>\n",
       "      <td>United-States</td>\n",
       "      <td>&lt;=50K</td>\n",
       "    </tr>\n",
       "    <tr>\n",
       "      <th>3</th>\n",
       "      <td>53</td>\n",
       "      <td>Private</td>\n",
       "      <td>234721</td>\n",
       "      <td>11th</td>\n",
       "      <td>7</td>\n",
       "      <td>Married-civ-spouse</td>\n",
       "      <td>Handlers-cleaners</td>\n",
       "      <td>Husband</td>\n",
       "      <td>Black</td>\n",
       "      <td>Male</td>\n",
       "      <td>0</td>\n",
       "      <td>0</td>\n",
       "      <td>40</td>\n",
       "      <td>United-States</td>\n",
       "      <td>&lt;=50K</td>\n",
       "    </tr>\n",
       "    <tr>\n",
       "      <th>4</th>\n",
       "      <td>28</td>\n",
       "      <td>Private</td>\n",
       "      <td>338409</td>\n",
       "      <td>Bachelors</td>\n",
       "      <td>13</td>\n",
       "      <td>Married-civ-spouse</td>\n",
       "      <td>Prof-specialty</td>\n",
       "      <td>Wife</td>\n",
       "      <td>Black</td>\n",
       "      <td>Female</td>\n",
       "      <td>0</td>\n",
       "      <td>0</td>\n",
       "      <td>40</td>\n",
       "      <td>Cuba</td>\n",
       "      <td>&lt;=50K</td>\n",
       "    </tr>\n",
       "    <tr>\n",
       "      <th>5</th>\n",
       "      <td>37</td>\n",
       "      <td>Private</td>\n",
       "      <td>284582</td>\n",
       "      <td>Masters</td>\n",
       "      <td>14</td>\n",
       "      <td>Married-civ-spouse</td>\n",
       "      <td>Exec-managerial</td>\n",
       "      <td>Wife</td>\n",
       "      <td>White</td>\n",
       "      <td>Female</td>\n",
       "      <td>0</td>\n",
       "      <td>0</td>\n",
       "      <td>40</td>\n",
       "      <td>United-States</td>\n",
       "      <td>&lt;=50K</td>\n",
       "    </tr>\n",
       "    <tr>\n",
       "      <th>6</th>\n",
       "      <td>49</td>\n",
       "      <td>Private</td>\n",
       "      <td>160187</td>\n",
       "      <td>9th</td>\n",
       "      <td>5</td>\n",
       "      <td>Married-spouse-absent</td>\n",
       "      <td>Other-service</td>\n",
       "      <td>Not-in-family</td>\n",
       "      <td>Black</td>\n",
       "      <td>Female</td>\n",
       "      <td>0</td>\n",
       "      <td>0</td>\n",
       "      <td>16</td>\n",
       "      <td>Jamaica</td>\n",
       "      <td>&lt;=50K</td>\n",
       "    </tr>\n",
       "    <tr>\n",
       "      <th>7</th>\n",
       "      <td>52</td>\n",
       "      <td>Self-emp-not-inc</td>\n",
       "      <td>209642</td>\n",
       "      <td>HS-grad</td>\n",
       "      <td>9</td>\n",
       "      <td>Married-civ-spouse</td>\n",
       "      <td>Exec-managerial</td>\n",
       "      <td>Husband</td>\n",
       "      <td>White</td>\n",
       "      <td>Male</td>\n",
       "      <td>0</td>\n",
       "      <td>0</td>\n",
       "      <td>45</td>\n",
       "      <td>United-States</td>\n",
       "      <td>&gt;50K</td>\n",
       "    </tr>\n",
       "  </tbody>\n",
       "</table>\n",
       "</div>"
      ],
      "text/plain": [
       "   age         workclass  fnlwgt  education  education-num  \\\n",
       "0   39         State-gov   77516  Bachelors             13   \n",
       "1   50  Self-emp-not-inc   83311  Bachelors             13   \n",
       "2   38           Private  215646    HS-grad              9   \n",
       "3   53           Private  234721       11th              7   \n",
       "4   28           Private  338409  Bachelors             13   \n",
       "5   37           Private  284582    Masters             14   \n",
       "6   49           Private  160187        9th              5   \n",
       "7   52  Self-emp-not-inc  209642    HS-grad              9   \n",
       "\n",
       "          marital-status         occupation   relationship   race     sex  \\\n",
       "0          Never-married       Adm-clerical  Not-in-family  White    Male   \n",
       "1     Married-civ-spouse    Exec-managerial        Husband  White    Male   \n",
       "2               Divorced  Handlers-cleaners  Not-in-family  White    Male   \n",
       "3     Married-civ-spouse  Handlers-cleaners        Husband  Black    Male   \n",
       "4     Married-civ-spouse     Prof-specialty           Wife  Black  Female   \n",
       "5     Married-civ-spouse    Exec-managerial           Wife  White  Female   \n",
       "6  Married-spouse-absent      Other-service  Not-in-family  Black  Female   \n",
       "7     Married-civ-spouse    Exec-managerial        Husband  White    Male   \n",
       "\n",
       "   capital-gain  capital-loss  hours-per-week native-country salary  \n",
       "0          2174             0              40  United-States  <=50K  \n",
       "1             0             0              13  United-States  <=50K  \n",
       "2             0             0              40  United-States  <=50K  \n",
       "3             0             0              40  United-States  <=50K  \n",
       "4             0             0              40           Cuba  <=50K  \n",
       "5             0             0              40  United-States  <=50K  \n",
       "6             0             0              16        Jamaica  <=50K  \n",
       "7             0             0              45  United-States   >50K  "
      ]
     },
     "execution_count": 3,
     "metadata": {},
     "output_type": "execute_result"
    }
   ],
   "source": [
    "# Previewing the data \n",
    "df.head(8) "
   ]
  },
  {
   "cell_type": "code",
   "execution_count": 4,
   "id": "34fc524a",
   "metadata": {},
   "outputs": [
    {
     "data": {
      "text/plain": [
       "(32561, 15)"
      ]
     },
     "execution_count": 4,
     "metadata": {},
     "output_type": "execute_result"
    }
   ],
   "source": [
    "# Checking how large the data is via rows and columns \n",
    "df.shape "
   ]
  },
  {
   "cell_type": "code",
   "execution_count": 5,
   "id": "aa4bad26",
   "metadata": {},
   "outputs": [
    {
     "data": {
      "text/html": [
       "<div>\n",
       "<style scoped>\n",
       "    .dataframe tbody tr th:only-of-type {\n",
       "        vertical-align: middle;\n",
       "    }\n",
       "\n",
       "    .dataframe tbody tr th {\n",
       "        vertical-align: top;\n",
       "    }\n",
       "\n",
       "    .dataframe thead th {\n",
       "        text-align: right;\n",
       "    }\n",
       "</style>\n",
       "<table border=\"1\" class=\"dataframe\">\n",
       "  <thead>\n",
       "    <tr style=\"text-align: right;\">\n",
       "      <th></th>\n",
       "      <th>age</th>\n",
       "      <th>fnlwgt</th>\n",
       "      <th>education-num</th>\n",
       "      <th>capital-gain</th>\n",
       "      <th>capital-loss</th>\n",
       "      <th>hours-per-week</th>\n",
       "    </tr>\n",
       "  </thead>\n",
       "  <tbody>\n",
       "    <tr>\n",
       "      <th>count</th>\n",
       "      <td>32561.000000</td>\n",
       "      <td>3.256100e+04</td>\n",
       "      <td>32561.000000</td>\n",
       "      <td>32561.000000</td>\n",
       "      <td>32561.000000</td>\n",
       "      <td>32561.000000</td>\n",
       "    </tr>\n",
       "    <tr>\n",
       "      <th>mean</th>\n",
       "      <td>38.581647</td>\n",
       "      <td>1.897784e+05</td>\n",
       "      <td>10.080679</td>\n",
       "      <td>1077.648844</td>\n",
       "      <td>87.303830</td>\n",
       "      <td>40.437456</td>\n",
       "    </tr>\n",
       "    <tr>\n",
       "      <th>std</th>\n",
       "      <td>13.640433</td>\n",
       "      <td>1.055500e+05</td>\n",
       "      <td>2.572720</td>\n",
       "      <td>7385.292085</td>\n",
       "      <td>402.960219</td>\n",
       "      <td>12.347429</td>\n",
       "    </tr>\n",
       "    <tr>\n",
       "      <th>min</th>\n",
       "      <td>17.000000</td>\n",
       "      <td>1.228500e+04</td>\n",
       "      <td>1.000000</td>\n",
       "      <td>0.000000</td>\n",
       "      <td>0.000000</td>\n",
       "      <td>1.000000</td>\n",
       "    </tr>\n",
       "    <tr>\n",
       "      <th>25%</th>\n",
       "      <td>28.000000</td>\n",
       "      <td>1.178270e+05</td>\n",
       "      <td>9.000000</td>\n",
       "      <td>0.000000</td>\n",
       "      <td>0.000000</td>\n",
       "      <td>40.000000</td>\n",
       "    </tr>\n",
       "    <tr>\n",
       "      <th>50%</th>\n",
       "      <td>37.000000</td>\n",
       "      <td>1.783560e+05</td>\n",
       "      <td>10.000000</td>\n",
       "      <td>0.000000</td>\n",
       "      <td>0.000000</td>\n",
       "      <td>40.000000</td>\n",
       "    </tr>\n",
       "    <tr>\n",
       "      <th>75%</th>\n",
       "      <td>48.000000</td>\n",
       "      <td>2.370510e+05</td>\n",
       "      <td>12.000000</td>\n",
       "      <td>0.000000</td>\n",
       "      <td>0.000000</td>\n",
       "      <td>45.000000</td>\n",
       "    </tr>\n",
       "    <tr>\n",
       "      <th>max</th>\n",
       "      <td>90.000000</td>\n",
       "      <td>1.484705e+06</td>\n",
       "      <td>16.000000</td>\n",
       "      <td>99999.000000</td>\n",
       "      <td>4356.000000</td>\n",
       "      <td>99.000000</td>\n",
       "    </tr>\n",
       "  </tbody>\n",
       "</table>\n",
       "</div>"
      ],
      "text/plain": [
       "                age        fnlwgt  education-num  capital-gain  capital-loss  \\\n",
       "count  32561.000000  3.256100e+04   32561.000000  32561.000000  32561.000000   \n",
       "mean      38.581647  1.897784e+05      10.080679   1077.648844     87.303830   \n",
       "std       13.640433  1.055500e+05       2.572720   7385.292085    402.960219   \n",
       "min       17.000000  1.228500e+04       1.000000      0.000000      0.000000   \n",
       "25%       28.000000  1.178270e+05       9.000000      0.000000      0.000000   \n",
       "50%       37.000000  1.783560e+05      10.000000      0.000000      0.000000   \n",
       "75%       48.000000  2.370510e+05      12.000000      0.000000      0.000000   \n",
       "max       90.000000  1.484705e+06      16.000000  99999.000000   4356.000000   \n",
       "\n",
       "       hours-per-week  \n",
       "count    32561.000000  \n",
       "mean        40.437456  \n",
       "std         12.347429  \n",
       "min          1.000000  \n",
       "25%         40.000000  \n",
       "50%         40.000000  \n",
       "75%         45.000000  \n",
       "max         99.000000  "
      ]
     },
     "execution_count": 5,
     "metadata": {},
     "output_type": "execute_result"
    }
   ],
   "source": [
    "# Checking the stats of the data\n",
    "df.describe() "
   ]
  },
  {
   "cell_type": "code",
   "execution_count": 6,
   "id": "ab752974",
   "metadata": {},
   "outputs": [
    {
     "data": {
      "text/plain": [
       "age               0\n",
       "workclass         0\n",
       "fnlwgt            0\n",
       "education         0\n",
       "education-num     0\n",
       "marital-status    0\n",
       "occupation        0\n",
       "relationship      0\n",
       "race              0\n",
       "sex               0\n",
       "capital-gain      0\n",
       "capital-loss      0\n",
       "hours-per-week    0\n",
       "native-country    0\n",
       "salary            0\n",
       "dtype: int64"
      ]
     },
     "execution_count": 6,
     "metadata": {},
     "output_type": "execute_result"
    }
   ],
   "source": [
    "# Checking for any missing data \n",
    "df.isna().sum() "
   ]
  },
  {
   "cell_type": "code",
   "execution_count": 7,
   "id": "653d21f9",
   "metadata": {},
   "outputs": [
    {
     "name": "stdout",
     "output_type": "stream",
     "text": [
      "<class 'pandas.core.frame.DataFrame'>\n",
      "RangeIndex: 32561 entries, 0 to 32560\n",
      "Data columns (total 15 columns):\n",
      " #   Column          Non-Null Count  Dtype \n",
      "---  ------          --------------  ----- \n",
      " 0   age             32561 non-null  int64 \n",
      " 1   workclass       32561 non-null  object\n",
      " 2   fnlwgt          32561 non-null  int64 \n",
      " 3   education       32561 non-null  object\n",
      " 4   education-num   32561 non-null  int64 \n",
      " 5   marital-status  32561 non-null  object\n",
      " 6   occupation      32561 non-null  object\n",
      " 7   relationship    32561 non-null  object\n",
      " 8   race            32561 non-null  object\n",
      " 9   sex             32561 non-null  object\n",
      " 10  capital-gain    32561 non-null  int64 \n",
      " 11  capital-loss    32561 non-null  int64 \n",
      " 12  hours-per-week  32561 non-null  int64 \n",
      " 13  native-country  32561 non-null  object\n",
      " 14  salary          32561 non-null  object\n",
      "dtypes: int64(6), object(9)\n",
      "memory usage: 3.7+ MB\n"
     ]
    }
   ],
   "source": [
    "# Checking the data types of each column\n",
    "df.info() "
   ]
  },
  {
   "cell_type": "markdown",
   "id": "ef8db3f7",
   "metadata": {},
   "source": [
    "## Answering The Questions"
   ]
  },
  {
   "cell_type": "markdown",
   "id": "86bfb53a",
   "metadata": {},
   "source": [
    "### How many people of each race are represented in this dataset? "
   ]
  },
  {
   "cell_type": "code",
   "execution_count": 8,
   "id": "fe216769",
   "metadata": {},
   "outputs": [],
   "source": [
    "race_count = df[\"race\"].value_counts()"
   ]
  },
  {
   "cell_type": "markdown",
   "id": "1a1c3789",
   "metadata": {},
   "source": [
    "### What is the average age of men?"
   ]
  },
  {
   "cell_type": "code",
   "execution_count": 9,
   "id": "38dab339",
   "metadata": {},
   "outputs": [],
   "source": [
    "average_age_men = df[df[\"sex\"] == \"Male\"][\"age\"]\n",
    "average_age_men = round(np.mean(average_age_men) , 1 )"
   ]
  },
  {
   "cell_type": "markdown",
   "id": "b605c042",
   "metadata": {},
   "source": [
    "### What is the percentage of people who have a Bachelor's degree?"
   ]
  },
  {
   "cell_type": "code",
   "execution_count": 10,
   "id": "0f423f39",
   "metadata": {},
   "outputs": [],
   "source": [
    "percentage_bachelors = len(df[df[\"education\"] == \"Bachelors\"])\n",
    "total_education = len(df[\"education\"])\n",
    "percentage_bachelors = round(100* (percentage_bachelors/total_education) , 1)"
   ]
  },
  {
   "cell_type": "markdown",
   "id": "2ab6211d",
   "metadata": {},
   "source": [
    "### What percentage of people with advanced education (`Bachelors`, `Masters`, or `Doctorate`) make more than 50K?"
   ]
  },
  {
   "cell_type": "code",
   "execution_count": 11,
   "id": "a2c8c979",
   "metadata": {},
   "outputs": [
    {
     "name": "stderr",
     "output_type": "stream",
     "text": [
      "<ipython-input-11-8759b2dbba7e>:1: UserWarning: Boolean Series key will be reindexed to match DataFrame index.\n",
      "  higher_education = df.loc[(df[\"education\"].str.startswith(\"B\")) | (df[\"education\"].str.startswith(\"M\")) | (df[\"education\"].str.startswith(\"D\"))][df[\"salary\"] == \">50K\"]\n"
     ]
    }
   ],
   "source": [
    "higher_education = df.loc[(df[\"education\"].str.startswith(\"B\")) | (df[\"education\"].str.startswith(\"M\")) | (df[\"education\"].str.startswith(\"D\"))][df[\"salary\"] == \">50K\"]\n"
   ]
  },
  {
   "cell_type": "markdown",
   "id": "453d031f",
   "metadata": {},
   "source": [
    "### What percentage of people without advanced education make more than 50K? with and without `Bachelors`, `Masters`, or `Doctorate`"
   ]
  },
  {
   "cell_type": "code",
   "execution_count": 12,
   "id": "0e22d6d8",
   "metadata": {},
   "outputs": [],
   "source": [
    "lower_education = df.loc[df[\"salary\"] == \">50K\"]\n",
    "lower_education = len(lower_education) - len(higher_education)"
   ]
  },
  {
   "cell_type": "markdown",
   "id": "034e1d35",
   "metadata": {},
   "source": [
    "### percentage with salary >50K"
   ]
  },
  {
   "cell_type": "code",
   "execution_count": 13,
   "id": "36253de3",
   "metadata": {},
   "outputs": [],
   "source": [
    "higher_education2 = df.loc[(df[\"education\"].str.startswith(\"B\")) | (df[\"education\"].str.startswith(\"M\")) | (df[\"education\"].str.startswith(\"D\"))]    \n",
    "higher_education_rich = round(100 * (len(higher_education) / len(higher_education2)),1 )\n",
    "lower_education_rich = round(100 * (lower_education / (total_education - len(higher_education2)) ) ,1 )"
   ]
  },
  {
   "cell_type": "markdown",
   "id": "ce772a4e",
   "metadata": {},
   "source": [
    "### What is the minimum number of hours a person works per week (hours-per-week feature)?"
   ]
  },
  {
   "cell_type": "code",
   "execution_count": 14,
   "id": "e90b1ffd",
   "metadata": {},
   "outputs": [],
   "source": [
    "min_work_hours = df[\"hours-per-week\"].min()"
   ]
  },
  {
   "cell_type": "markdown",
   "id": "964e2d82",
   "metadata": {},
   "source": [
    "### What percentage of the people who work the minimum number of hours per week have a salary of >50K?"
   ]
  },
  {
   "cell_type": "code",
   "execution_count": 15,
   "id": "51f1f780",
   "metadata": {},
   "outputs": [],
   "source": [
    "min_work = df.loc[(df[\"hours-per-week\"] == 1)]\n",
    "num_min_workers = df.loc[(df[\"hours-per-week\"] == 1) & (df[\"salary\"] == \">50K\")]"
   ]
  },
  {
   "cell_type": "code",
   "execution_count": 16,
   "id": "3516b0f6",
   "metadata": {},
   "outputs": [],
   "source": [
    "rich_percentage = round(100 * len(num_min_workers) / len(min_work) , 1)"
   ]
  },
  {
   "cell_type": "markdown",
   "id": "f171d996",
   "metadata": {},
   "source": [
    "### What country has the highest percentage of people that earn >50K?"
   ]
  },
  {
   "cell_type": "code",
   "execution_count": 17,
   "id": "2f41ab17",
   "metadata": {},
   "outputs": [],
   "source": [
    "new_df = df.loc[(df[\"salary\"] == \">50K\")][\"native-country\"].value_counts()\n",
    "new_df2 = df[\"native-country\"].value_counts()"
   ]
  },
  {
   "cell_type": "code",
   "execution_count": 18,
   "id": "d6f9d893",
   "metadata": {},
   "outputs": [],
   "source": [
    "richest = (new_df / new_df2).max()"
   ]
  },
  {
   "cell_type": "code",
   "execution_count": 19,
   "id": "756ecf43",
   "metadata": {},
   "outputs": [],
   "source": [
    "highest_earning_country = (new_df/new_df2).sort_values(ascending = False).index[0]\n",
    "highest_earning_country_percentage = round(100 * richest, 1 )"
   ]
  },
  {
   "cell_type": "markdown",
   "id": "b4c8e9e8",
   "metadata": {},
   "source": [
    "### Identify the most popular occupation for those who earn >50K in India."
   ]
  },
  {
   "cell_type": "code",
   "execution_count": 20,
   "id": "b2165d84",
   "metadata": {},
   "outputs": [],
   "source": [
    "india = df.loc[(df[\"salary\"] == \">50K\") & ( df[\"native-country\"] == \"India\")][\"occupation\"]\n",
    "top_IN_occupation = pd.Series.mode(india)[0]"
   ]
  },
  {
   "cell_type": "markdown",
   "id": "a9024028",
   "metadata": {},
   "source": [
    "## Print the results"
   ]
  },
  {
   "cell_type": "code",
   "execution_count": 23,
   "id": "56973706",
   "metadata": {},
   "outputs": [
    {
     "name": "stdout",
     "output_type": "stream",
     "text": [
      "Number of each race:\n",
      " White                 27816\n",
      "Black                  3124\n",
      "Asian-Pac-Islander     1039\n",
      "Amer-Indian-Eskimo      311\n",
      "Other                   271\n",
      "Name: race, dtype: int64\n",
      "Average age of men: 39.4\n",
      "Percentage with Bachelors degrees: 16.4%\n",
      "Percentage with higher education that earn >50K: 46.5%\n",
      "Percentage without higher education that earn >50K: 17.4%\n",
      "Min work time: 1 hours/week\n",
      "Percentage of rich among those who work fewest hours: 10.0%\n",
      "Country with highest percentage of rich: Iran\n",
      "Highest percentage of rich people in country: 41.9%\n",
      "Top occupations in India: Prof-specialty\n"
     ]
    }
   ],
   "source": [
    "        print(\"Number of each race:\\n\", race_count) \n",
    "        print(\"Average age of men:\", average_age_men)\n",
    "        print(f\"Percentage with Bachelors degrees: {percentage_bachelors}%\")\n",
    "        print(f\"Percentage with higher education that earn >50K: {higher_education_rich}%\")\n",
    "        print(f\"Percentage without higher education that earn >50K: {lower_education_rich}%\")\n",
    "        print(f\"Min work time: {min_work_hours} hours/week\")\n",
    "        print(f\"Percentage of rich among those who work fewest hours: {rich_percentage}%\")\n",
    "        print(\"Country with highest percentage of rich:\", highest_earning_country)\n",
    "        print(f\"Highest percentage of rich people in country: {highest_earning_country_percentage}%\")\n",
    "        print(\"Top occupations in India:\", top_IN_occupation)"
   ]
  },
  {
   "cell_type": "code",
   "execution_count": null,
   "id": "ecee39b2",
   "metadata": {},
   "outputs": [],
   "source": []
  }
 ],
 "metadata": {
  "kernelspec": {
   "display_name": "Python 3",
   "language": "python",
   "name": "python3"
  },
  "language_info": {
   "codemirror_mode": {
    "name": "ipython",
    "version": 3
   },
   "file_extension": ".py",
   "mimetype": "text/x-python",
   "name": "python",
   "nbconvert_exporter": "python",
   "pygments_lexer": "ipython3",
   "version": "3.8.8"
  }
 },
 "nbformat": 4,
 "nbformat_minor": 5
}
